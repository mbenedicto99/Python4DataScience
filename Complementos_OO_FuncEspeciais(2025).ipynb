{
  "nbformat": 4,
  "nbformat_minor": 0,
  "metadata": {
    "colab": {
      "provenance": [],
      "include_colab_link": true
    },
    "kernelspec": {
      "name": "python3",
      "display_name": "Python 3"
    }
  },
  "cells": [
    {
      "cell_type": "markdown",
      "metadata": {
        "id": "view-in-github",
        "colab_type": "text"
      },
      "source": [
        "<a href=\"https://colab.research.google.com/github/mbenedicto99/Python4DataScience/blob/master/Complementos_OO_FuncEspeciais(2025).ipynb\" target=\"_parent\"><img src=\"https://colab.research.google.com/assets/colab-badge.svg\" alt=\"Open In Colab\"/></a>"
      ]
    },
    {
      "cell_type": "markdown",
      "metadata": {
        "id": "ypoGtkHEIqUj"
      },
      "source": [
        "# Mais tópicos sobre orientação a objetos em Python\n"
      ]
    },
    {
      "cell_type": "markdown",
      "metadata": {
        "id": "kFV6g5cTWScA"
      },
      "source": [
        "## Métodos especiais\n",
        "\n",
        "Em python, um nome de método iniciado *e* terminado por ```__``` é considerado um método especial em Python e tem um significado específico para a linguagem.\n",
        "\n",
        "Já se viu dois métodos assim, o método ```__init__``` e o método ```__str__```.\n",
        "\n",
        "O método ```__init__``` é invocado para inicializar os campos quando um objeto é construído. Note que ele pode ser invocado como um método comum (embora não deva):"
      ]
    },
    {
      "cell_type": "code",
      "metadata": {
        "id": "bmX8YdO_Udfe",
        "colab": {
          "base_uri": "https://localhost:8080/"
        },
        "outputId": "1cf4e14c-7c34-432e-ed4e-018280e4c72d"
      },
      "source": [
        "class Valor():\n",
        "  def __init__(self, x):\n",
        "    self._x = x\n",
        "\n",
        "  def get(self):\n",
        "    return self._x\n",
        "\n",
        "a = Valor(\"teste\")\n",
        "print(a.get())\n",
        "a.__init__(\"Novo Teste\")\n",
        "print(a.get())"
      ],
      "execution_count": null,
      "outputs": [
        {
          "output_type": "stream",
          "name": "stdout",
          "text": [
            "teste\n",
            "Novo Teste\n"
          ]
        }
      ]
    },
    {
      "cell_type": "markdown",
      "metadata": {
        "id": "ToOkmVHtcTd1"
      },
      "source": [
        "Já o método ```__str__``` serve para se obter a representação em string do conteúdo do objeto.\n",
        "Este é o método invocado pela função ```str``` e pela função ```print```.\n",
        "\n",
        "Outro exemplo é o método ```__del__```, invocado quando um objeto está prestes a ser destruído:\n",
        "\n"
      ]
    },
    {
      "cell_type": "code",
      "metadata": {
        "id": "9So_AbbMh9GE"
      },
      "source": [
        "class Valor():\n",
        "  \"\"\" Classe que armazena um simples valor \"\"\"\n",
        "  def __init__(self, x=None):\n",
        "    self.__valor = x\n",
        "\n",
        "  def get(self):\n",
        "    \"\"\" Retorna o valor armazenado \"\"\"\n",
        "    return self.__valor\n",
        "\n",
        "  def set(self, novo):\n",
        "    \"\"\" Modifica o valor armazenado \"\"\"\n",
        "    self.__valor = novo\n",
        "\n",
        "  def __del__(self):\n",
        "    print(\"Adeus!\")"
      ],
      "execution_count": null,
      "outputs": []
    },
    {
      "cell_type": "code",
      "metadata": {
        "id": "e1JgIENTiBoI",
        "colab": {
          "base_uri": "https://localhost:8080/"
        },
        "outputId": "543cd619-aa6f-4ff6-b507-2f4fc228bd5c"
      },
      "source": [
        "a = Valor()\n",
        "a = None"
      ],
      "execution_count": null,
      "outputs": [
        {
          "output_type": "stream",
          "name": "stdout",
          "text": [
            "Adeus!\n"
          ]
        }
      ]
    },
    {
      "cell_type": "markdown",
      "metadata": {
        "id": "tisAo8Jin0WQ"
      },
      "source": [
        "*Nota*: Como o \"coletor de lixo\" (responsável pela destruição de objetos em Python) não tem um comportamento determinístico, frequentemente é difícil precisar o momento exato em que ```__del__``` é chamada.\n",
        "\n",
        "Há vários destes métodos na linguagem.\n",
        "De fato, a mensagem mais importante acerca destes é que um programador não deve definir nomes iniciados e terminados por ```__``` a menos que explicitamente queira definir os métodos especiais da linguagem.\n",
        "\n",
        "Outros métodos relevantes da linguagem:\n",
        "\n",
        "``` __len__```: Retorna a quantidade de itens armazenados no objeto. Útil para objetos \"agregadores\", ou seja, que contém vários sub-objetos. A função ```len``` invoca este método.\n",
        "\n",
        "\n"
      ]
    },
    {
      "cell_type": "code",
      "metadata": {
        "id": "0SoB98kBiDfh"
      },
      "source": [
        "class Pilha():\n",
        "  \"\"\" Uma implementação simples de uma pilha por lista ligada \"\"\"\n",
        "\n",
        "  class No():\n",
        "    \"\"\" Um nó da lista ligada\"\"\"\n",
        "    def __init__(self, conteudo, proximo = None):\n",
        "      self.__c = conteudo\n",
        "      self.__p = proximo\n",
        "\n",
        "    def get(self):\n",
        "      return self.__c\n",
        "\n",
        "    def next(self):\n",
        "      return self.__p\n",
        "\n",
        "  def __init__(self):\n",
        "    self.__raiz = None\n",
        "\n",
        "  def push(self, valor):\n",
        "    self.__raiz = Pilha.No(valor, self.__raiz)\n",
        "\n",
        "  def pop(self):\n",
        "    if self.__raiz:\n",
        "      ret = self.__raiz\n",
        "      self.__raiz = self.__raiz.next()\n",
        "      return ret.get()\n",
        "\n",
        "  def __len__(self):\n",
        "    \"\"\" Conta a quantidade de entradas na lista ligada \"\"\"\n",
        "    count = 0\n",
        "    aux = self.__raiz\n",
        "    while aux is not None:\n",
        "      count += 1\n",
        "      aux = aux.next()\n",
        "    return count\n"
      ],
      "execution_count": null,
      "outputs": []
    },
    {
      "cell_type": "code",
      "metadata": {
        "id": "iWWInCKTs3Bv",
        "colab": {
          "base_uri": "https://localhost:8080/"
        },
        "outputId": "95d979e6-c9d5-4491-e7de-2a79eadadd4d"
      },
      "source": [
        "p = Pilha()\n",
        "p.push(3)\n",
        "p.push(2)\n",
        "p.push(1)\n",
        "print(\"Quantidade de elementos empilhados: \" + str(len(p)))\n",
        "print(p.pop())\n",
        "print(p.pop())\n",
        "print(p.pop())"
      ],
      "execution_count": null,
      "outputs": [
        {
          "output_type": "stream",
          "name": "stdout",
          "text": [
            "Quantidade de elementos empilhados: 3\n",
            "1\n",
            "2\n",
            "3\n"
          ]
        }
      ]
    },
    {
      "cell_type": "markdown",
      "metadata": {
        "id": "a5DMwTOUufrU"
      },
      "source": [
        "Também úteis para objetos agregadores são as funções ```__getitem__``` e ```__setitem__```.\n",
        " O primeiro armazena um novo objeto dada uma chave e o segundo recupera o objeto armazenado.\n",
        " Estes são os métodos invocados quando os operadores colchetes (```[]```) são usados para acessar uma chave específica armazenada.\n",
        "\n",
        " Segue um exemplo simples de um objeto agregador por árvores binárias:"
      ]
    },
    {
      "cell_type": "code",
      "metadata": {
        "id": "zkJHvPKluk9z"
      },
      "source": [
        "class Valores():\n",
        "  class NoAb():\n",
        "    def __init__(self, chave, valor, esquerda = None, direita = None):\n",
        "      self._c = chave\n",
        "      self._v = valor\n",
        "      self._e = esquerda\n",
        "      self._d = direita\n",
        "\n",
        "    def tamanho(self):\n",
        "      \"\"\" Retorna o tamanho da sub-árvore\"\"\"\n",
        "      e = self._e.tamanho() if self._e else 0\n",
        "      d = self._d.tamanho() if self._d else 0\n",
        "      return 1+e+d\n",
        "\n",
        "    def adiciona_valor(self, chave, valor):\n",
        "      if self._c < chave:\n",
        "        if self._d:\n",
        "          self._d.adiciona_valor(chave, valor)\n",
        "        else:\n",
        "          self._d = Valores.NoAb(chave, valor)\n",
        "      elif self._c > chave:\n",
        "        if self._e:\n",
        "          self._e.adiciona_valor(chave, valor)\n",
        "        else:\n",
        "          self._e = Valores.NoAb(chave, valor)\n",
        "      else:\n",
        "        self._v = valor\n",
        "\n",
        "    def recupera_valor(self, chave):\n",
        "      if self._c < chave:\n",
        "        if self._d:\n",
        "          return self._d.recupera_valor(chave)\n",
        "      elif self._c > chave:\n",
        "        if self._e:\n",
        "          return self._e.recupera_valor(chave)\n",
        "      else:\n",
        "        return self._v\n",
        "\n",
        "  def __init__(self):\n",
        "    self._raiz = None\n",
        "\n",
        "  def __len__(self):\n",
        "    return self._raiz.tamanho() if self._raiz else 0\n",
        "\n",
        "  def __getitem__(self, chave):\n",
        "    if self._raiz:\n",
        "      return self._raiz.recupera_valor(chave)\n",
        "\n",
        "  def __setitem__(self, chave, valor):\n",
        "      if self._raiz:\n",
        "        return self._raiz.adiciona_valor(chave, valor)\n",
        "      else:\n",
        "        self._raiz = Valores.NoAb(chave, valor)"
      ],
      "execution_count": null,
      "outputs": []
    },
    {
      "cell_type": "code",
      "metadata": {
        "id": "tLPpcHICxfap",
        "colab": {
          "base_uri": "https://localhost:8080/",
          "height": 90
        },
        "outputId": "2a3e63ec-7af0-467b-cbdc-e7756ccdd0d7"
      },
      "source": [
        "a = Valores()\n",
        "a[1]  = \"Um\"\n",
        "a[0] = \"Zero\"\n",
        "a[2] = \"Dois\"\n",
        "print(len(a))\n",
        "print(a[0])\n",
        "print(a[1])\n",
        "print(a[2])"
      ],
      "execution_count": null,
      "outputs": [
        {
          "output_type": "stream",
          "text": [
            "3\n",
            "Zero\n",
            "Um\n",
            "Dois\n"
          ],
          "name": "stdout"
        }
      ]
    },
    {
      "cell_type": "markdown",
      "metadata": {
        "id": "6Qns7Hno2i0h"
      },
      "source": [
        "Outro tipo de método especial é o que implementa operações aritméticas.\n",
        "Estes são os métodos empregados quando se usa operadores aritméticos como +,-,*,/...\n",
        "\n",
        "Segue um exemplo com uma classe Vetor:"
      ]
    },
    {
      "cell_type": "code",
      "metadata": {
        "id": "vT_XZi9V2oMY"
      },
      "source": [
        "class Vetor():\n",
        "  def __init__(self, coeficientes):\n",
        "    self._c = list(coeficientes)\n",
        "\n",
        "  def __add__(self, outro):\n",
        "    res = list(self._c)\n",
        "    for i in range(len(outro._c)):\n",
        "      res[i] += outro._c[i]\n",
        "    return Vetor(res)\n",
        "\n",
        "  def __sub__(self, outro):\n",
        "    res = list(self._c)\n",
        "    for i in range(len(outro._c)):\n",
        "      res[i] -= outro._c[i]\n",
        "    return Vetor(res)\n",
        "\n",
        "  def __repr__(self):\n",
        "    return str(self._c)"
      ],
      "execution_count": null,
      "outputs": []
    },
    {
      "cell_type": "code",
      "metadata": {
        "id": "bvXgIfsV2-IG",
        "colab": {
          "base_uri": "https://localhost:8080/",
          "height": 35
        },
        "outputId": "7d755b64-1513-47c8-b61e-cdf813a2152f"
      },
      "source": [
        "Vetor([1,2,3])+Vetor([0.5,1,2])"
      ],
      "execution_count": null,
      "outputs": [
        {
          "output_type": "execute_result",
          "data": {
            "text/plain": [
              "[1.5, 3, 5]"
            ]
          },
          "metadata": {
            "tags": []
          },
          "execution_count": 114
        }
      ]
    },
    {
      "cell_type": "code",
      "metadata": {
        "id": "YV_3eXBs3DsE",
        "colab": {
          "base_uri": "https://localhost:8080/",
          "height": 35
        },
        "outputId": "a0183512-8e5b-4a4c-b955-e9e037e0fdbf"
      },
      "source": [
        "Vetor([1, 1, 1])-Vetor([1,1,1])"
      ],
      "execution_count": null,
      "outputs": [
        {
          "output_type": "execute_result",
          "data": {
            "text/plain": [
              "[0, 0, 0]"
            ]
          },
          "metadata": {
            "tags": []
          },
          "execution_count": 117
        }
      ]
    },
    {
      "cell_type": "markdown",
      "source": [
        "Objetos *mutáveis* podem implementar os métodos de atribuição composta (```+=```, ```-=```, ```*=```, ```/=```...).\n",
        "\n",
        "Quando estes métodos estão presentes, o operador composto tem um comportamento *distinto*.\n",
        "\n"
      ],
      "metadata": {
        "id": "Ls0kyFWvqEZ8"
      }
    },
    {
      "cell_type": "code",
      "source": [
        "class VetorMutavel():\n",
        "  def __init__(self, coeficientes):\n",
        "    self._c = list(coeficientes)\n",
        "\n",
        "  def __add__(self, outro):\n",
        "    res = list(self._c)\n",
        "    for i in range(len(outro._c)):\n",
        "      res[i] += outro._c[i]\n",
        "    return Vetor(res)\n",
        "\n",
        "  def __sub__(self, outro):\n",
        "    res = list(self._c)\n",
        "    for i in range(len(outro._c)):\n",
        "      res[i] -= outro._c[i]\n",
        "    return Vetor(res)\n",
        "\n",
        "  def __iadd__(self, outro):\n",
        "    for i in range(len(outro._c)):\n",
        "      self._c[i] += outro._c[i]\n",
        "    return self\n",
        "\n",
        "  def __isub__(self, outro):\n",
        "    for i in range(len(outro._c)):\n",
        "      self._c[i] -= outro._c[i]\n",
        "    return self\n",
        "\n",
        "  def __repr__(self):\n",
        "    return str(self._c)"
      ],
      "metadata": {
        "id": "P4SZvQZgr37v"
      },
      "execution_count": null,
      "outputs": []
    },
    {
      "cell_type": "code",
      "source": [
        "a = Vetor([1,2,3])\n",
        "b = a\n",
        "a += Vetor([1,1,1])\n",
        "print(b is a)"
      ],
      "metadata": {
        "id": "BFGxLo1SsNCw",
        "outputId": "fa2c8ab4-652c-4d7e-e406-c4212796c8b8",
        "colab": {
          "base_uri": "https://localhost:8080/"
        }
      },
      "execution_count": null,
      "outputs": [
        {
          "output_type": "stream",
          "name": "stdout",
          "text": [
            "False\n"
          ]
        }
      ]
    },
    {
      "cell_type": "code",
      "source": [
        "a = VetorMutavel([1,2,3])\n",
        "b = a\n",
        "a += VetorMutavel([1,1,1])\n",
        "print(b is a)\n",
        "print(repr(b))"
      ],
      "metadata": {
        "id": "ILc_l0y5sXZt",
        "outputId": "95c3c2f3-d10b-45c6-b04b-3b9a4ab3db93",
        "colab": {
          "base_uri": "https://localhost:8080/"
        }
      },
      "execution_count": null,
      "outputs": [
        {
          "output_type": "stream",
          "name": "stdout",
          "text": [
            "True\n",
            "[2, 3, 4]\n"
          ]
        }
      ]
    },
    {
      "cell_type": "markdown",
      "metadata": {
        "id": "Ln_qRpYB4-bL"
      },
      "source": [
        "Um recurso poderoso é a possibilidade de se criar objetos que são invocáveis como uma função, implementando-se o método ```__call__```.\n",
        "\n",
        "Este método é chamado quando uma função é invocada com o operador \"parênteses\".\n",
        "\n",
        "De fato, toda função em Python é um objeto que implementa o método ```__call__```.\n"
      ]
    },
    {
      "cell_type": "code",
      "metadata": {
        "id": "vXp9UnxQ491L",
        "colab": {
          "base_uri": "https://localhost:8080/",
          "height": 54
        },
        "outputId": "79675b53-b18c-46e3-caca-a984e240e255"
      },
      "source": [
        "def soma(x, y):\n",
        "  return x+y\n",
        "\n",
        "print(soma.__call__)\n",
        "soma.__call__(2, 2)"
      ],
      "execution_count": null,
      "outputs": [
        {
          "output_type": "stream",
          "text": [
            "<method-wrapper '__call__' of function object at 0x7f341351b0d0>\n"
          ],
          "name": "stdout"
        },
        {
          "output_type": "execute_result",
          "data": {
            "text/plain": [
              "4"
            ]
          },
          "metadata": {
            "tags": []
          },
          "execution_count": 120
        }
      ]
    },
    {
      "cell_type": "markdown",
      "metadata": {
        "id": "HZkLCEqD5sbX"
      },
      "source": [
        "Do mesmo modo, se um objeto implementa o método ```__call__```, ele pode ser invocado como uma função:"
      ]
    },
    {
      "cell_type": "code",
      "metadata": {
        "id": "oQaG6En25oJX"
      },
      "source": [
        "class Somador():\n",
        "  def __init__(self, inc):\n",
        "    self._i = inc\n",
        "\n",
        "  def __call__(self, y):\n",
        "    return self._i + y"
      ],
      "execution_count": null,
      "outputs": []
    },
    {
      "cell_type": "code",
      "metadata": {
        "id": "KAS7BkbU5hoh",
        "colab": {
          "base_uri": "https://localhost:8080/",
          "height": 35
        },
        "outputId": "ec163b36-dc27-4063-bb20-f439f952058c"
      },
      "source": [
        "a = Somador(2)\n",
        "a(3)"
      ],
      "execution_count": null,
      "outputs": [
        {
          "output_type": "execute_result",
          "data": {
            "text/plain": [
              "5"
            ]
          },
          "metadata": {
            "tags": []
          },
          "execution_count": 123
        }
      ]
    }
  ]
}